{
 "cells": [
  {
   "cell_type": "code",
   "execution_count": 1,
   "id": "03335543",
   "metadata": {},
   "outputs": [
    {
     "name": "stderr",
     "output_type": "stream",
     "text": [
      "C:\\Users\\77052\\anaconda3\\envs\\vrp_rl\\lib\\site-packages\\tensorflow\\python\\framework\\dtypes.py:469: FutureWarning: Passing (type, 1) or '1type' as a synonym of type is deprecated; in a future version of numpy, it will be understood as (type, (1,)) / '(1,)type'.\n",
      "  _np_qint8 = np.dtype([(\"qint8\", np.int8, 1)])\n",
      "C:\\Users\\77052\\anaconda3\\envs\\vrp_rl\\lib\\site-packages\\tensorflow\\python\\framework\\dtypes.py:470: FutureWarning: Passing (type, 1) or '1type' as a synonym of type is deprecated; in a future version of numpy, it will be understood as (type, (1,)) / '(1,)type'.\n",
      "  _np_quint8 = np.dtype([(\"quint8\", np.uint8, 1)])\n",
      "C:\\Users\\77052\\anaconda3\\envs\\vrp_rl\\lib\\site-packages\\tensorflow\\python\\framework\\dtypes.py:471: FutureWarning: Passing (type, 1) or '1type' as a synonym of type is deprecated; in a future version of numpy, it will be understood as (type, (1,)) / '(1,)type'.\n",
      "  _np_qint16 = np.dtype([(\"qint16\", np.int16, 1)])\n",
      "C:\\Users\\77052\\anaconda3\\envs\\vrp_rl\\lib\\site-packages\\tensorflow\\python\\framework\\dtypes.py:472: FutureWarning: Passing (type, 1) or '1type' as a synonym of type is deprecated; in a future version of numpy, it will be understood as (type, (1,)) / '(1,)type'.\n",
      "  _np_quint16 = np.dtype([(\"quint16\", np.uint16, 1)])\n",
      "C:\\Users\\77052\\anaconda3\\envs\\vrp_rl\\lib\\site-packages\\tensorflow\\python\\framework\\dtypes.py:473: FutureWarning: Passing (type, 1) or '1type' as a synonym of type is deprecated; in a future version of numpy, it will be understood as (type, (1,)) / '(1,)type'.\n",
      "  _np_qint32 = np.dtype([(\"qint32\", np.int32, 1)])\n",
      "C:\\Users\\77052\\anaconda3\\envs\\vrp_rl\\lib\\site-packages\\tensorflow\\python\\framework\\dtypes.py:476: FutureWarning: Passing (type, 1) or '1type' as a synonym of type is deprecated; in a future version of numpy, it will be understood as (type, (1,)) / '(1,)type'.\n",
      "  np_resource = np.dtype([(\"resource\", np.ubyte, 1)])\n"
     ]
    }
   ],
   "source": [
    "import argparse\n",
    "import os\n",
    "import numpy as np\n",
    "from tqdm import tqdm \n",
    "import tensorflow as tf\n",
    "import time\n",
    "\n",
    "from configs import ParseParams\n",
    "\n",
    "from shared.decode_step import RNNDecodeStep\n",
    "from model.attention_agent import RLAgent\n",
    "\n",
    "from tools import *\n"
   ]
  },
  {
   "cell_type": "markdown",
   "id": "bd69a84f",
   "metadata": {},
   "source": [
    "RL train"
   ]
  },
  {
   "cell_type": "code",
   "execution_count": 2,
   "id": "bc4be768",
   "metadata": {
    "scrolled": true
   },
   "outputs": [
    {
     "name": "stdout",
     "output_type": "stream",
     "text": [
      "actor_net_lr: 0.0001\n",
      "agent_type: attention\n",
      "batch_size: 128\n",
      "beam_width: 10\n",
      "capacity: 20\n",
      "critic_net_lr: 0.0001\n",
      "data_dir: data\n",
      "decode_len: 16\n",
      "demand_max: 9\n",
      "disable_tqdm: True\n",
      "dropout: 0.1\n",
      "embedding_dim: 128\n",
      "entropy_coeff: 0.0\n",
      "forget_bias: 1.0\n",
      "gpu: 3\n",
      "hidden_dim: 128\n",
      "infer_type: batch\n",
      "input_dim: 3\n",
      "is_train: True\n",
      "load_path: \n",
      "log_dir: logs/vrp10-2023-10-26_13-07-41\n",
      "log_interval: 200\n",
      "mask_glimpses: True\n",
      "mask_pointer: True\n",
      "max_grad_norm: 2.0\n",
      "model_dir: logs/vrp10-2023-10-26_13-07-41\\model\n",
      "n_cust: 10\n",
      "n_glimpses: 0\n",
      "n_nodes: 11\n",
      "n_process_blocks: 3\n",
      "n_train: 260000\n",
      "random_seed: 24601\n",
      "rnn_layers: 1\n",
      "save_interval: 10000\n",
      "stdout_print: True\n",
      "tanh_exploration: 10.0\n",
      "task: vrp10\n",
      "task_name: vrp\n",
      "test_interval: 200\n",
      "test_size: 1000\n",
      "use_tanh: False\n",
      "# Set random seed to 24601\n",
      "It took 8.876333951950073s to build the agent.\n",
      "Training started ...\n",
      "Train Step: 0 -- Time: 00:00:02 -- Train reward: 8.956636428833008 -- Value: 0.05331822484731674\n",
      "    actor loss: -188.44097900390625 -- critic loss: 81.1611328125\n",
      "Average of greedy in batch-mode: 8.063790321350098 -- std 1.4621007442474365 -- time 0.8629071712493896 s\n",
      "##################################################################\n",
      "Train Step: 200 -- Time: 00:00:37 -- Train reward: 8.731797218322754 -- Value: 8.78076457977295\n",
      "    actor loss: 1.1492196321487427 -- critic loss: 2.1147079467773438\n",
      "Average of greedy in batch-mode: 7.92979621887207 -- std 1.4664480686187744 -- time 0.5538115501403809 s\n",
      "##################################################################\n",
      "Train Step: 400 -- Time: 00:00:37 -- Train reward: 8.604999542236328 -- Value: 8.796396255493164\n",
      "    actor loss: 3.715620756149292 -- critic loss: 1.810212254524231\n",
      "Average of greedy in batch-mode: 7.841556072235107 -- std 1.4247524738311768 -- time 0.5345525741577148 s\n",
      "##################################################################\n",
      "Train Step: 600 -- Time: 00:00:37 -- Train reward: 8.515180587768555 -- Value: 8.682937622070312\n",
      "    actor loss: 3.4696474075317383 -- critic loss: 1.8958666324615479\n",
      "Average of greedy in batch-mode: 7.803494930267334 -- std 1.4372740983963013 -- time 0.5509421825408936 s\n",
      "##################################################################\n",
      "Train Step: 800 -- Time: 00:00:37 -- Train reward: 8.349969863891602 -- Value: 8.583984375\n",
      "    actor loss: 4.675957679748535 -- critic loss: 2.097079277038574\n",
      "Average of greedy in batch-mode: 7.872654438018799 -- std 1.4403791427612305 -- time 0.5802459716796875 s\n",
      "##################################################################\n",
      "Train Step: 1000 -- Time: 00:00:38 -- Train reward: 8.597058296203613 -- Value: 8.516212463378906\n",
      "    actor loss: -1.491922378540039 -- critic loss: 1.7500323057174683\n",
      "Average of greedy in batch-mode: 7.893364429473877 -- std 1.4402270317077637 -- time 0.5344254970550537 s\n",
      "##################################################################\n",
      "Train Step: 1200 -- Time: 00:00:38 -- Train reward: 8.286371231079102 -- Value: 8.254326820373535\n",
      "    actor loss: -0.6815696954727173 -- critic loss: 1.0280417203903198\n",
      "Average of greedy in batch-mode: 7.8797831535339355 -- std 1.4239956140518188 -- time 0.5543041229248047 s\n",
      "##################################################################\n",
      "Train Step: 1400 -- Time: 00:00:37 -- Train reward: 8.02599811553955 -- Value: 8.059911727905273\n",
      "    actor loss: 0.5683924555778503 -- critic loss: 0.889273464679718\n",
      "Average of greedy in batch-mode: 7.833034515380859 -- std 1.4167321920394897 -- time 0.5336990356445312 s\n",
      "##################################################################\n",
      "Train Step: 1600 -- Time: 00:00:38 -- Train reward: 7.877101421356201 -- Value: 7.929601192474365\n",
      "    actor loss: 0.26578593254089355 -- critic loss: 1.0348503589630127\n",
      "Average of greedy in batch-mode: 7.7746076583862305 -- std 1.406510591506958 -- time 0.5509943962097168 s\n",
      "##################################################################\n",
      "Train Step: 1800 -- Time: 00:00:38 -- Train reward: 7.525285720825195 -- Value: 7.835051536560059\n",
      "    actor loss: 2.261103630065918 -- critic loss: 0.7422904372215271\n",
      "Average of greedy in batch-mode: 7.650196075439453 -- std 1.36701500415802 -- time 0.5681159496307373 s\n",
      "##################################################################\n"
     ]
    },
    {
     "ename": "KeyboardInterrupt",
     "evalue": "",
     "output_type": "error",
     "traceback": [
      "\u001b[1;31m---------------------------------------------------------------------------\u001b[0m",
      "\u001b[1;31mKeyboardInterrupt\u001b[0m                         Traceback (most recent call last)",
      "\u001b[1;32m<ipython-input-2-d9a141bb0832>\u001b[0m in \u001b[0;36m<module>\u001b[1;34m\u001b[0m\n\u001b[0;32m     10\u001b[0m \u001b[1;31m# args['task'] change as config\u001b[0m\u001b[1;33m\u001b[0m\u001b[1;33m\u001b[0m\u001b[1;33m\u001b[0m\u001b[0m\n\u001b[0;32m     11\u001b[0m \u001b[0margs\u001b[0m\u001b[1;33m[\u001b[0m\u001b[1;34m'input_dim'\u001b[0m\u001b[1;33m]\u001b[0m \u001b[1;33m=\u001b[0m \u001b[1;36m19\u001b[0m \u001b[1;33m+\u001b[0m \u001b[0margs\u001b[0m\u001b[1;33m[\u001b[0m\u001b[1;34m'n_nodes'\u001b[0m\u001b[1;33m]\u001b[0m\u001b[1;33m\u001b[0m\u001b[1;33m\u001b[0m\u001b[0m\n\u001b[1;32m---> 12\u001b[1;33m \u001b[0mmain\u001b[0m\u001b[1;33m(\u001b[0m\u001b[0margs\u001b[0m\u001b[1;33m,\u001b[0m \u001b[0mprt\u001b[0m\u001b[1;33m,\u001b[0m \u001b[0mA\u001b[0m\u001b[1;33m,\u001b[0m\u001b[0mB\u001b[0m\u001b[1;33m,\u001b[0m\u001b[0mG\u001b[0m\u001b[1;33m,\u001b[0m\u001b[0mF\u001b[0m\u001b[1;33m)\u001b[0m\u001b[1;33m\u001b[0m\u001b[1;33m\u001b[0m\u001b[0m\n\u001b[0m",
      "\u001b[1;32m~\\Desktop\\projects\\MBZUAI\\AAAI24\\codes\\code\\tools.py\u001b[0m in \u001b[0;36mmain\u001b[1;34m(args, prt, A, B, G, F)\u001b[0m\n\u001b[0;32m     59\u001b[0m         \u001b[0mtrain_time_beg\u001b[0m \u001b[1;33m=\u001b[0m \u001b[0mtime\u001b[0m\u001b[1;33m.\u001b[0m\u001b[0mtime\u001b[0m\u001b[1;33m(\u001b[0m\u001b[1;33m)\u001b[0m\u001b[1;33m\u001b[0m\u001b[1;33m\u001b[0m\u001b[0m\n\u001b[0;32m     60\u001b[0m         \u001b[1;32mfor\u001b[0m \u001b[0mstep\u001b[0m \u001b[1;32min\u001b[0m \u001b[0mrange\u001b[0m\u001b[1;33m(\u001b[0m\u001b[0margs\u001b[0m\u001b[1;33m[\u001b[0m\u001b[1;34m'n_train'\u001b[0m\u001b[1;33m]\u001b[0m\u001b[1;33m)\u001b[0m\u001b[1;33m:\u001b[0m\u001b[1;33m\u001b[0m\u001b[1;33m\u001b[0m\u001b[0m\n\u001b[1;32m---> 61\u001b[1;33m             \u001b[0msummary\u001b[0m \u001b[1;33m=\u001b[0m \u001b[0magent\u001b[0m\u001b[1;33m.\u001b[0m\u001b[0mrun_train_step\u001b[0m\u001b[1;33m(\u001b[0m\u001b[1;33m)\u001b[0m\u001b[1;33m\u001b[0m\u001b[1;33m\u001b[0m\u001b[0m\n\u001b[0m\u001b[0;32m     62\u001b[0m             \u001b[0m_\u001b[0m\u001b[1;33m,\u001b[0m \u001b[0m_\u001b[0m \u001b[1;33m,\u001b[0m \u001b[0mactor_loss_val\u001b[0m\u001b[1;33m,\u001b[0m \u001b[0mcritic_loss_val\u001b[0m\u001b[1;33m,\u001b[0m \u001b[0mactor_gra_and_var_val\u001b[0m\u001b[1;33m,\u001b[0m \u001b[0mcritic_gra_and_var_val\u001b[0m\u001b[1;33m,\u001b[0m\u001b[0;31m\\\u001b[0m\u001b[1;33m\u001b[0m\u001b[1;33m\u001b[0m\u001b[0m\n\u001b[0;32m     63\u001b[0m                 \u001b[0mR_val\u001b[0m\u001b[1;33m,\u001b[0m \u001b[0mv_val\u001b[0m\u001b[1;33m,\u001b[0m \u001b[0mlogprobs_val\u001b[0m\u001b[1;33m,\u001b[0m\u001b[0mprobs_val\u001b[0m\u001b[1;33m,\u001b[0m \u001b[0mactions_val\u001b[0m\u001b[1;33m,\u001b[0m \u001b[0midxs_val\u001b[0m\u001b[1;33m=\u001b[0m \u001b[0msummary\u001b[0m\u001b[1;33m\u001b[0m\u001b[1;33m\u001b[0m\u001b[0m\n",
      "\u001b[1;32m~\\Desktop\\projects\\MBZUAI\\AAAI24\\codes\\code\\model\\attention_agent.py\u001b[0m in \u001b[0;36mrun_train_step\u001b[1;34m(self)\u001b[0m\n\u001b[0;32m    396\u001b[0m         train_results = self.sess.run(self.train_step,\n\u001b[0;32m    397\u001b[0m                                  feed_dict={self.env.input_data:data,\n\u001b[1;32m--> 398\u001b[1;33m                                   self.decodeStep.dropout:self.args['dropout']})\n\u001b[0m\u001b[0;32m    399\u001b[0m         \u001b[1;32mreturn\u001b[0m \u001b[0mtrain_results\u001b[0m\u001b[1;33m\u001b[0m\u001b[1;33m\u001b[0m\u001b[0m\n",
      "\u001b[1;32m~\\anaconda3\\envs\\vrp_rl\\lib\\site-packages\\tensorflow\\python\\client\\session.py\u001b[0m in \u001b[0;36mrun\u001b[1;34m(self, fetches, feed_dict, options, run_metadata)\u001b[0m\n\u001b[0;32m    887\u001b[0m     \u001b[1;32mtry\u001b[0m\u001b[1;33m:\u001b[0m\u001b[1;33m\u001b[0m\u001b[1;33m\u001b[0m\u001b[0m\n\u001b[0;32m    888\u001b[0m       result = self._run(None, fetches, feed_dict, options_ptr,\n\u001b[1;32m--> 889\u001b[1;33m                          run_metadata_ptr)\n\u001b[0m\u001b[0;32m    890\u001b[0m       \u001b[1;32mif\u001b[0m \u001b[0mrun_metadata\u001b[0m\u001b[1;33m:\u001b[0m\u001b[1;33m\u001b[0m\u001b[1;33m\u001b[0m\u001b[0m\n\u001b[0;32m    891\u001b[0m         \u001b[0mproto_data\u001b[0m \u001b[1;33m=\u001b[0m \u001b[0mtf_session\u001b[0m\u001b[1;33m.\u001b[0m\u001b[0mTF_GetBuffer\u001b[0m\u001b[1;33m(\u001b[0m\u001b[0mrun_metadata_ptr\u001b[0m\u001b[1;33m)\u001b[0m\u001b[1;33m\u001b[0m\u001b[1;33m\u001b[0m\u001b[0m\n",
      "\u001b[1;32m~\\anaconda3\\envs\\vrp_rl\\lib\\site-packages\\tensorflow\\python\\client\\session.py\u001b[0m in \u001b[0;36m_run\u001b[1;34m(self, handle, fetches, feed_dict, options, run_metadata)\u001b[0m\n\u001b[0;32m   1118\u001b[0m     \u001b[1;32mif\u001b[0m \u001b[0mfinal_fetches\u001b[0m \u001b[1;32mor\u001b[0m \u001b[0mfinal_targets\u001b[0m \u001b[1;32mor\u001b[0m \u001b[1;33m(\u001b[0m\u001b[0mhandle\u001b[0m \u001b[1;32mand\u001b[0m \u001b[0mfeed_dict_tensor\u001b[0m\u001b[1;33m)\u001b[0m\u001b[1;33m:\u001b[0m\u001b[1;33m\u001b[0m\u001b[1;33m\u001b[0m\u001b[0m\n\u001b[0;32m   1119\u001b[0m       results = self._do_run(handle, final_targets, final_fetches,\n\u001b[1;32m-> 1120\u001b[1;33m                              feed_dict_tensor, options, run_metadata)\n\u001b[0m\u001b[0;32m   1121\u001b[0m     \u001b[1;32melse\u001b[0m\u001b[1;33m:\u001b[0m\u001b[1;33m\u001b[0m\u001b[1;33m\u001b[0m\u001b[0m\n\u001b[0;32m   1122\u001b[0m       \u001b[0mresults\u001b[0m \u001b[1;33m=\u001b[0m \u001b[1;33m[\u001b[0m\u001b[1;33m]\u001b[0m\u001b[1;33m\u001b[0m\u001b[1;33m\u001b[0m\u001b[0m\n",
      "\u001b[1;32m~\\anaconda3\\envs\\vrp_rl\\lib\\site-packages\\tensorflow\\python\\client\\session.py\u001b[0m in \u001b[0;36m_do_run\u001b[1;34m(self, handle, target_list, fetch_list, feed_dict, options, run_metadata)\u001b[0m\n\u001b[0;32m   1315\u001b[0m     \u001b[1;32mif\u001b[0m \u001b[0mhandle\u001b[0m \u001b[1;32mis\u001b[0m \u001b[1;32mNone\u001b[0m\u001b[1;33m:\u001b[0m\u001b[1;33m\u001b[0m\u001b[1;33m\u001b[0m\u001b[0m\n\u001b[0;32m   1316\u001b[0m       return self._do_call(_run_fn, self._session, feeds, fetches, targets,\n\u001b[1;32m-> 1317\u001b[1;33m                            options, run_metadata)\n\u001b[0m\u001b[0;32m   1318\u001b[0m     \u001b[1;32melse\u001b[0m\u001b[1;33m:\u001b[0m\u001b[1;33m\u001b[0m\u001b[1;33m\u001b[0m\u001b[0m\n\u001b[0;32m   1319\u001b[0m       \u001b[1;32mreturn\u001b[0m \u001b[0mself\u001b[0m\u001b[1;33m.\u001b[0m\u001b[0m_do_call\u001b[0m\u001b[1;33m(\u001b[0m\u001b[0m_prun_fn\u001b[0m\u001b[1;33m,\u001b[0m \u001b[0mself\u001b[0m\u001b[1;33m.\u001b[0m\u001b[0m_session\u001b[0m\u001b[1;33m,\u001b[0m \u001b[0mhandle\u001b[0m\u001b[1;33m,\u001b[0m \u001b[0mfeeds\u001b[0m\u001b[1;33m,\u001b[0m \u001b[0mfetches\u001b[0m\u001b[1;33m)\u001b[0m\u001b[1;33m\u001b[0m\u001b[1;33m\u001b[0m\u001b[0m\n",
      "\u001b[1;32m~\\anaconda3\\envs\\vrp_rl\\lib\\site-packages\\tensorflow\\python\\client\\session.py\u001b[0m in \u001b[0;36m_do_call\u001b[1;34m(self, fn, *args)\u001b[0m\n\u001b[0;32m   1321\u001b[0m   \u001b[1;32mdef\u001b[0m \u001b[0m_do_call\u001b[0m\u001b[1;33m(\u001b[0m\u001b[0mself\u001b[0m\u001b[1;33m,\u001b[0m \u001b[0mfn\u001b[0m\u001b[1;33m,\u001b[0m \u001b[1;33m*\u001b[0m\u001b[0margs\u001b[0m\u001b[1;33m)\u001b[0m\u001b[1;33m:\u001b[0m\u001b[1;33m\u001b[0m\u001b[1;33m\u001b[0m\u001b[0m\n\u001b[0;32m   1322\u001b[0m     \u001b[1;32mtry\u001b[0m\u001b[1;33m:\u001b[0m\u001b[1;33m\u001b[0m\u001b[1;33m\u001b[0m\u001b[0m\n\u001b[1;32m-> 1323\u001b[1;33m       \u001b[1;32mreturn\u001b[0m \u001b[0mfn\u001b[0m\u001b[1;33m(\u001b[0m\u001b[1;33m*\u001b[0m\u001b[0margs\u001b[0m\u001b[1;33m)\u001b[0m\u001b[1;33m\u001b[0m\u001b[1;33m\u001b[0m\u001b[0m\n\u001b[0m\u001b[0;32m   1324\u001b[0m     \u001b[1;32mexcept\u001b[0m \u001b[0merrors\u001b[0m\u001b[1;33m.\u001b[0m\u001b[0mOpError\u001b[0m \u001b[1;32mas\u001b[0m \u001b[0me\u001b[0m\u001b[1;33m:\u001b[0m\u001b[1;33m\u001b[0m\u001b[1;33m\u001b[0m\u001b[0m\n\u001b[0;32m   1325\u001b[0m       \u001b[0mmessage\u001b[0m \u001b[1;33m=\u001b[0m \u001b[0mcompat\u001b[0m\u001b[1;33m.\u001b[0m\u001b[0mas_text\u001b[0m\u001b[1;33m(\u001b[0m\u001b[0me\u001b[0m\u001b[1;33m.\u001b[0m\u001b[0mmessage\u001b[0m\u001b[1;33m)\u001b[0m\u001b[1;33m\u001b[0m\u001b[1;33m\u001b[0m\u001b[0m\n",
      "\u001b[1;32m~\\anaconda3\\envs\\vrp_rl\\lib\\site-packages\\tensorflow\\python\\client\\session.py\u001b[0m in \u001b[0;36m_run_fn\u001b[1;34m(session, feed_dict, fetch_list, target_list, options, run_metadata)\u001b[0m\n\u001b[0;32m   1300\u001b[0m           return tf_session.TF_Run(session, options,\n\u001b[0;32m   1301\u001b[0m                                    \u001b[0mfeed_dict\u001b[0m\u001b[1;33m,\u001b[0m \u001b[0mfetch_list\u001b[0m\u001b[1;33m,\u001b[0m \u001b[0mtarget_list\u001b[0m\u001b[1;33m,\u001b[0m\u001b[1;33m\u001b[0m\u001b[1;33m\u001b[0m\u001b[0m\n\u001b[1;32m-> 1302\u001b[1;33m                                    status, run_metadata)\n\u001b[0m\u001b[0;32m   1303\u001b[0m \u001b[1;33m\u001b[0m\u001b[0m\n\u001b[0;32m   1304\u001b[0m     \u001b[1;32mdef\u001b[0m \u001b[0m_prun_fn\u001b[0m\u001b[1;33m(\u001b[0m\u001b[0msession\u001b[0m\u001b[1;33m,\u001b[0m \u001b[0mhandle\u001b[0m\u001b[1;33m,\u001b[0m \u001b[0mfeed_dict\u001b[0m\u001b[1;33m,\u001b[0m \u001b[0mfetch_list\u001b[0m\u001b[1;33m)\u001b[0m\u001b[1;33m:\u001b[0m\u001b[1;33m\u001b[0m\u001b[1;33m\u001b[0m\u001b[0m\n",
      "\u001b[1;31mKeyboardInterrupt\u001b[0m: "
     ]
    }
   ],
   "source": [
    "args, prt = ParseParams()\n",
    "\n",
    "A,B,G,F = 0.6, 0.2, 0.2, 0.5\n",
    "random_seed = args['random_seed']\n",
    "if random_seed is not None and random_seed > 0:\n",
    "    prt.print_out(\"# Set random seed to %d\" % random_seed)\n",
    "    np.random.seed(random_seed)\n",
    "    tf.set_random_seed(random_seed)\n",
    "tf.reset_default_graph()\n",
    "# args['task'] change as config\n",
    "args['input_dim'] = 19 + args['n_nodes']\n",
    "main(args, prt, A,B,G,F)"
   ]
  },
  {
   "cell_type": "code",
   "execution_count": null,
   "id": "b97d9db2",
   "metadata": {},
   "outputs": [],
   "source": []
  }
 ],
 "metadata": {
  "kernelspec": {
   "display_name": "Python 3",
   "language": "python",
   "name": "python3"
  },
  "language_info": {
   "codemirror_mode": {
    "name": "ipython",
    "version": 3
   },
   "file_extension": ".py",
   "mimetype": "text/x-python",
   "name": "python",
   "nbconvert_exporter": "python",
   "pygments_lexer": "ipython3",
   "version": "3.6.8"
  }
 },
 "nbformat": 4,
 "nbformat_minor": 5
}
